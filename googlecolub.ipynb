{
  "nbformat": 4,
  "nbformat_minor": 0,
  "metadata": {
    "colab": {
      "name": "googlecolub.ipynb",
      "provenance": [],
      "collapsed_sections": [],
      "authorship_tag": "ABX9TyPKap2my7u5hzXzl9eNtpYP",
      "include_colab_link": true
    },
    "kernelspec": {
      "name": "python3",
      "display_name": "Python 3"
    },
    "language_info": {
      "name": "python"
    }
  },
  "cells": [
    {
      "cell_type": "markdown",
      "metadata": {
        "id": "view-in-github",
        "colab_type": "text"
      },
      "source": [
        "<a href=\"https://colab.research.google.com/github/6Cookie6/First_Repository/blob/main/googlecolub.ipynb\" target=\"_parent\"><img src=\"https://colab.research.google.com/assets/colab-badge.svg\" alt=\"Open In Colab\"/></a>"
      ]
    },
    {
      "cell_type": "markdown",
      "source": [
        "## Пример использования Markdown\n",
        ">1. Список:\n",
        ">>1. Монгуш\n",
        ">>2. Митрофанов\n",
        ">>3. Дмитриенко\n",
        ">>4. Огородников\n",
        ">2. Рисунок:\n",
        "![A link](https://upload.wikimedia.org/wikipedia/commons/3/39/%D0%9B%D0%BE%D0%B3%D0%BE%D1%82%D0%B8%D0%BF_%D0%9D%D0%93%D0%A2%D0%A3_%D0%9D%D0%AD%D0%A2%D0%98.png)\n",
        ">3. Таблица:\n",
        "\n",
        "First column name| Second column name \n",
        "-----------------|-------------------\n",
        "Row 1, Col 1     |Row 1, Col 2 \n",
        "\n",
        ">4. Ссылка:\n",
        "[Ссылка на сайт НГТУ](https://www.nstu.ru/)\n",
        "  "
      ],
      "metadata": {
        "id": "8UI8RE--hgSA"
      }
    },
    {
      "cell_type": "code",
      "source": [
        ""
      ],
      "metadata": {
        "id": "31J3Z_j8uGZA"
      },
      "execution_count": null,
      "outputs": []
    }
  ]
}